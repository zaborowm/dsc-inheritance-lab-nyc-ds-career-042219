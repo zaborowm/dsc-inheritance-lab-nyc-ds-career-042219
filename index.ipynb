{
 "cells": [
  {
   "cell_type": "markdown",
   "metadata": {},
   "source": [
    "# Inheritance - Lab\n",
    "\n",
    "## Introduction\n",
    "\n",
    "In this lab, you'll use what you've learned about inheritance to model a zoo using superclasses, subclasses, and maybe even an abstract superclass!\n",
    "\n",
    "## Objectives\n",
    "\n",
    "You will be able to:\n",
    "\n",
    "* Use inheritance to write D.R.Y. code\n",
    "* Understand the relationship between subclasses and superclasses\n",
    "* Create Object-Oriented data models that describe the real world with classes and subclasses\n",
    "\n",
    "## Modeling a Zoo\n",
    "\n",
    "Consider the following scenario:  You've been hired by a zookeeper to build a program that keeps track of all the animals in the zoo.  This is a great opportunity to make use of Inheritance and Object-Oriented Programming!\n",
    "\n",
    "## Creating an Abstract Superclass\n",
    "\n",
    "Start by creating an abstract superclass, `Animal`.  When our program is complete, all subclasses of `Animal` will have the following attributes:\n",
    "\n",
    "* `name`, which is a string set at instantation time\n",
    "* `size`, which can be `'small'`, `'medium'`, `'large'`, or `'enormous'`.\n",
    "* `weight`, which is an integer set at integer set at instantiation time.\n",
    "* `species`, a string that tells us the species of the animal\n",
    "* `food_type`, which can be `'herbivore'`, `'carnivore'`, or `'omnivore'`\n",
    "* `nocturnal`, a boolean value that is `True` if the animal sleeps during the day, otherwise `False`\n",
    "\n",
    "They'll also have the following behaviors:\n",
    "\n",
    "* `sleep`, which prints a string saying if the animal sleeps during day or night\n",
    "* `eat`, which takes in the string `plants` or `meat`, and returns `'{animal name} the {animal species} thinks {food} is yummy!'` or `'I don't eat this!'` based on the animal's `food_type` attribute. \n",
    "\n",
    "In the cell below, create an abstract superclass that meets these specifications.\n",
    "\n",
    "**_NOTE:_** For some attributes in an abstract superclass such as `size`, the initial value doesn't matter--just make sure that you remember to override it in each of the subclasses!"
   ]
  },
  {
   "cell_type": "code",
   "execution_count": 1,
   "metadata": {},
   "outputs": [],
   "source": [
    "class Animal():\n",
    "#    sizes = ['small', 'medium', 'large', 'enormous']\n",
    "#    food_types = ['herbivore', 'carnivore', 'omnivore']\n",
    "#    nocturnals = ['True','False']\n",
    "    \n",
    "    def __init__(self, name, weight):\n",
    "        self.name = name\n",
    "        self.size = None\n",
    "        self.weight = weight\n",
    "        self.species = None\n",
    "        self.food_type = None\n",
    "        self.nocturnal = False\n",
    "     \n",
    "    def sleep(self):\n",
    "        if self.nocturnal == 'True':\n",
    "            print('This animal sleeps in the day.')\n",
    "        else:\n",
    "            print('This animal sleeps at night.')    \n",
    "\n",
    "    def eat(self, food):\n",
    "        if food == 'meat':\n",
    "            if self.food_type == 'herbivore':\n",
    "                print(\"I don't eat this!\")\n",
    "            else:\n",
    "                print('{self.name} the {self.species} thinks {food} is yummy!')    \n",
    "        elif food == 'plants':\n",
    "            if self.food_type == 'carnivore':\n",
    "                print(\"I don't eat this!\") \n",
    "            else:\n",
    "                print('{self.name} the {self.species} thinks {food} is yummy!')    \n"
   ]
  },
  {
   "cell_type": "code",
   "execution_count": 21,
   "metadata": {},
   "outputs": [],
   "source": [
    "class Animal(object):\n",
    "    \n",
    "    def __init__(self, name, weight):\n",
    "        self.name = name\n",
    "        self.weight = weight\n",
    "        self.species = None\n",
    "        self.size = None\n",
    "        self.food_type = None\n",
    "        self.nocturnal = False\n",
    "        \n",
    "    def sleep(self):\n",
    "        if self.nocturnal:\n",
    "            print(\"{} sleeps during the day!\".format(self.name))\n",
    "        else:\n",
    "            print(\"{} sleeps during the night!\".format(self.name))\n",
    "            \n",
    "    def eat(self, food):\n",
    "        if self.food_type == 'omnivore':\n",
    "            print(\"{} the {} thinks {} is Yummy!\".format(self.name, self.species, food))\n",
    "        elif (food == 'meat' and self.food_type == \"carnivore\") or (food == 'plants' and self.food_type == 'herbivore'):\n",
    "            print(\"{} the {} thinks {} is Yummy!\".format(self.name, self.species, food))\n",
    "        else:\n",
    "            print(\"I don't eat this!\")"
   ]
  },
  {
   "cell_type": "markdown",
   "metadata": {},
   "source": [
    "Great! Now that you have our Abstract Superclass, you can begin building out the specific animal classes.\n",
    "\n",
    "In the cell below, complete the `Elephant` class.  This class should:\n",
    "\n",
    "* Subclass `Animal`\n",
    "* Have a species of `'elephant'`\n",
    "* Have a size of `'enormous'`\n",
    "* Have a food type of `'herbivore'`\n",
    "* Set nocturnal to `False`\n",
    "\n",
    "**_Hint:_** Remember to make use of the `super()` object during initialization, and be sure to pass in the values it expects at instantiation time!"
   ]
  },
  {
   "cell_type": "code",
   "execution_count": 2,
   "metadata": {},
   "outputs": [],
   "source": [
    "class Elephant(Animal):\n",
    "       def __init__(self, name, weight):\n",
    "        super().__init__(name, weight)\n",
    "        self.size = 'enormous'\n",
    "        self.species = 'elephant'\n",
    "        self.food_type = 'herbivore'\n",
    "        self.nocturnal = False"
   ]
  },
  {
   "cell_type": "markdown",
   "metadata": {},
   "source": [
    "Great! Now, in the cell below, create a `Tiger` class.  This class should:\n",
    "\n",
    "* Subclass `Animal`\n",
    "* Have a species of `'tiger'`\n",
    "* Have a size of `'large'`\n",
    "* Have a food type of `'carnivore'`\n",
    "* Set nocturnal to `True`"
   ]
  },
  {
   "cell_type": "code",
   "execution_count": 3,
   "metadata": {},
   "outputs": [],
   "source": [
    "class Tiger(Animal):\n",
    "       def __init__(self, name, weight):\n",
    "        super().__init__()\n",
    "        self.size = 'large'\n",
    "        self.species = 'tiger'\n",
    "        self.food_type = 'carnivore'\n",
    "        self.nocturnal = True"
   ]
  },
  {
   "cell_type": "markdown",
   "metadata": {},
   "source": [
    "Great! 2 More classes to go. In the cell below, create a `Raccoon` class.  This class should:\n",
    "\n",
    "* Subclass `Animal`\n",
    "* Have a species of `raccoon`\n",
    "* Have a size of `'small'`\n",
    "* Have a food type of `'omnivore'`\n",
    "* Set nocturnal to `True`"
   ]
  },
  {
   "cell_type": "code",
   "execution_count": 4,
   "metadata": {},
   "outputs": [],
   "source": [
    "class Raccoon(Animal):\n",
    "       def __init__(self, name, weight):\n",
    "        super().__init__()\n",
    "        self.size = 'small'\n",
    "        self.species = 'racoon'\n",
    "        self.food_type = 'omnivore'\n",
    "        self.nocturnal = True"
   ]
  },
  {
   "cell_type": "markdown",
   "metadata": {},
   "source": [
    "Finally, create a `Gorilla` class.  This class should:\n",
    "\n",
    "* Subclass `Animal`\n",
    "* Have a species of `gorilla`\n",
    "* Have a size of `'Large'`\n",
    "* Have a food type of `'herbivore'`\n",
    "* Set nocturnal to `False`"
   ]
  },
  {
   "cell_type": "code",
   "execution_count": 5,
   "metadata": {},
   "outputs": [],
   "source": [
    "class Gorilla(Animal):\n",
    "       def __init__(self, name, weight):\n",
    "        super().__init__()\n",
    "        self.size = 'large'\n",
    "        self.species = 'gorilla'\n",
    "        self.food_type = 'herbivore'\n",
    "        self.nocturnal = False"
   ]
  },
  {
   "cell_type": "markdown",
   "metadata": {},
   "source": [
    "## Using Our Objects\n",
    "\n",
    "Now it's time to populate the zoo! To ease the creation of animal instances, create a function `add_animal_to_zoo`.\n",
    "\n",
    "This function should take in the following parameters:\n",
    "\n",
    "* `zoo`, an array representing the current state of the zoo\n",
    "* `animal_type`, a string.  Can be `'Gorilla'`, `'Raccoon'`, `'Tiger'`, or `'Elephant'`.\n",
    "* `name`, the name of the animal being created\n",
    "* `weight`, the weight of the animal being created\n",
    "\n",
    "The function should then:\n",
    "\n",
    "* use `animal_type` to determine which object to create\n",
    "* Create an instance of that animal, passing in the `name` and `weight`\n",
    "* Append the newly created animal to `zoo`\n",
    "* Return `zoo`"
   ]
  },
  {
   "cell_type": "code",
   "execution_count": 8,
   "metadata": {},
   "outputs": [
    {
     "ename": "SyntaxError",
     "evalue": "invalid syntax (<ipython-input-8-c9c26aee02c0>, line 4)",
     "output_type": "error",
     "traceback": [
      "\u001b[0;36m  File \u001b[0;32m\"<ipython-input-8-c9c26aee02c0>\"\u001b[0;36m, line \u001b[0;32m4\u001b[0m\n\u001b[0;31m    elif:\u001b[0m\n\u001b[0m        ^\u001b[0m\n\u001b[0;31mSyntaxError\u001b[0m\u001b[0;31m:\u001b[0m invalid syntax\n"
     ]
    }
   ],
   "source": [
    "def add_animal_to_zoo(zoo, animal_type, name, weight):\n",
    "    if animal_type == \"Gorilla\":\n",
    "        animal = Gorilla(name, weight)\n",
    "    elif: \n",
    "        animal_type == \"Raccoon\":\n",
    "            animal = Raccoon(name, weight)\n",
    "    elif: \n",
    "        animal_type == \"Tiger\":\n",
    "            animal = Tiger(name, weight)\n",
    "    else:\n",
    "        animal = Elephant(name, weight)\n",
    "    \n",
    "    zoo.append(animal)\n",
    "    \n",
    "    return zoo\n",
    "\n",
    "\n",
    "def add_animal_to_zoo(zoo, animal_type, name, weight):\n",
    "    animal = None\n",
    "    if animal_type == \"Gorilla\":\n",
    "        animal = Gorilla(name, weight)\n",
    "    elif animal_type == \"Raccoon\":\n",
    "        animal = Raccoon(name, weight)\n",
    "    elif animal_type == \"Tiger\":\n",
    "        animal = Tiger(name, weight)\n",
    "    else:\n",
    "        animal = Elephant(name, weight)\n",
    "    \n",
    "    zoo.append(animal)\n",
    "    \n",
    "    return zoo"
   ]
  },
  {
   "cell_type": "markdown",
   "metadata": {},
   "source": [
    "Great! Now, add some animals to your zoo. \n",
    "\n",
    "Create the following animals and add them to your zoo.  The names and weights are up to you.\n",
    "\n",
    "* 2 Elephants\n",
    "* 2 Raccons\n",
    "* 1 Gorilla\n",
    "* 3 Tigers"
   ]
  },
  {
   "cell_type": "code",
   "execution_count": 19,
   "metadata": {},
   "outputs": [
    {
     "data": {
      "text/plain": [
       "[<__main__.Elephant at 0x7fda0c8363c8>,\n",
       " <__main__.Elephant at 0x7fda0c836400>,\n",
       " <__main__.Elephant at 0x7fda0c836438>,\n",
       " <__main__.Elephant at 0x7fda0c836470>,\n",
       " <__main__.Elephant at 0x7fda0c8364a8>,\n",
       " <__main__.Elephant at 0x7fda0c8364e0>,\n",
       " <__main__.Elephant at 0x7fda0c836518>,\n",
       " <__main__.Elephant at 0x7fda0c836550>]"
      ]
     },
     "execution_count": 19,
     "metadata": {},
     "output_type": "execute_result"
    }
   ],
   "source": [
    "# Create your animals and add them to the 'zoo' in this cell!\n",
    "to_create = [('Elephant', 'Dumbo', 1300), ('Elephant', 'Jumbo', 1400), ('Raccoon', 'Rocky', 50), ('Raccoon', 'Bandit', 60), ('Gorilla', 'Manilla', 400), ('Tiger', 'Tony', 300), ('Tiger', 'Kitty', 250), ('Tiger', 'Jack', 270)]\n",
    "\n",
    "zoo = []\n",
    "\n",
    "for i in to_create:\n",
    "    zoo = add_animal_to_zoo(zoo, i, \"name\", 100)\n",
    "    \n",
    "zoo\n"
   ]
  },
  {
   "cell_type": "markdown",
   "metadata": {},
   "source": [
    "Great! Now that you have a populated zoo, you can do what the zookeeper hired you to do--write a program that feeds the correct animals the right food at the right times!\n",
    "\n",
    "To do this, write a function called `feed_animals`.  This function should take in two arguments:\n",
    "\n",
    "* `zoo`, the zoo array containing all the animals\n",
    "* `time`, which can be `'Day'` or `'Night'`.  This should default to day if nothing is entered for `time`.\n",
    "\n",
    "This function should:\n",
    "\n",
    "* Feed only the non-nocturnal animals if `time='Day'`, or only the nocturnal animals if `time='Night'`\n",
    "* Check the food type of each animal before feeding.  If the animal is a carnivore, feed it `meat`; otherwise, feed it `plants`. Feed the animals by using their `.eat()` method."
   ]
  },
  {
   "cell_type": "code",
   "execution_count": 22,
   "metadata": {},
   "outputs": [],
   "source": [
    "def feed_animals(zoo, time='Day'):\n",
    "    for animal in zoo:\n",
    "        if time == 'Day':\n",
    "            # CASE: Daytime feeding--Only feed the animals that aren't nocturnal\n",
    "            if animal.nocturnal == False:\n",
    "                # If the animal is a carnivore, feed it \"meat\".  Otherwise, feed it \"plants\"\n",
    "                if animal.food_type == 'carnivore':\n",
    "                    animal.eat('meat')\n",
    "                else:\n",
    "                    animal.eat('plants')\n",
    "        else:\n",
    "            # CASE: Night-time feeding--feed only the nocturnal animals! \n",
    "            if animal.nocturnal == True:\n",
    "                if animal.food_type == 'carnivore':\n",
    "                    animal.eat('meat')\n",
    "                else:\n",
    "                    animal.eat('plants')"
   ]
  },
  {
   "cell_type": "markdown",
   "metadata": {},
   "source": [
    "Now, test out your program.  Call the function for a daytime feeding below."
   ]
  },
  {
   "cell_type": "code",
   "execution_count": 23,
   "metadata": {},
   "outputs": [
    {
     "name": "stdout",
     "output_type": "stream",
     "text": [
      "{self.name} the {self.species} thinks {food} is yummy!\n",
      "{self.name} the {self.species} thinks {food} is yummy!\n",
      "{self.name} the {self.species} thinks {food} is yummy!\n",
      "{self.name} the {self.species} thinks {food} is yummy!\n",
      "{self.name} the {self.species} thinks {food} is yummy!\n",
      "{self.name} the {self.species} thinks {food} is yummy!\n",
      "{self.name} the {self.species} thinks {food} is yummy!\n",
      "{self.name} the {self.species} thinks {food} is yummy!\n"
     ]
    }
   ],
   "source": [
    "feed_animals(zoo)"
   ]
  },
  {
   "cell_type": "markdown",
   "metadata": {},
   "source": [
    "If the elephants and gorrilla's were fed then things should be good!\n",
    "\n",
    "In the cell below, call `feed_animals` again, but this time set `time='Night'`"
   ]
  },
  {
   "cell_type": "code",
   "execution_count": 12,
   "metadata": {},
   "outputs": [],
   "source": [
    "feed_animals(zoo, time='Night')"
   ]
  },
  {
   "cell_type": "markdown",
   "metadata": {},
   "source": [
    "Thats it! You've used OOP and inheritance to build a working function to help the zookeeper feed his animals the right food at the correct times!\n",
    "\n",
    "## Summary\n",
    "\n",
    "In this lab, you learned how to:\n",
    "\n",
    "* Use inheritance to to write D.R.Y. code\n",
    "* Understand the relationship between subclasses and superclasses\n",
    "* Create Object-Oriented data models that describe the real world with classes and subclasses"
   ]
  }
 ],
 "metadata": {
  "kernelspec": {
   "display_name": "Python 3",
   "language": "python",
   "name": "python3"
  },
  "language_info": {
   "codemirror_mode": {
    "name": "ipython",
    "version": 3
   },
   "file_extension": ".py",
   "mimetype": "text/x-python",
   "name": "python",
   "nbconvert_exporter": "python",
   "pygments_lexer": "ipython3",
   "version": "3.6.6"
  }
 },
 "nbformat": 4,
 "nbformat_minor": 2
}
